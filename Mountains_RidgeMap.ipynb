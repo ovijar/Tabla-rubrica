{
  "nbformat": 4,
  "nbformat_minor": 0,
  "metadata": {
    "colab": {
      "name": "Mountains_RidgeMap.ipynb",
      "provenance": [],
      "collapsed_sections": [],
      "authorship_tag": "ABX9TyOwaGJ7M4YCvAtdToWg++SW",
      "include_colab_link": true
    },
    "kernelspec": {
      "name": "python3",
      "display_name": "Python 3"
    }
  },
  "cells": [
    {
      "cell_type": "markdown",
      "metadata": {
        "id": "view-in-github",
        "colab_type": "text"
      },
      "source": [
        "<a href=\"https://colab.research.google.com/github/ovijar/Tabla-rubrica/blob/master/Mountains_RidgeMap.ipynb\" target=\"_parent\"><img src=\"https://colab.research.google.com/assets/colab-badge.svg\" alt=\"Open In Colab\"/></a>"
      ]
    },
    {
      "cell_type": "code",
      "metadata": {
        "id": "QH-98SXgJKZY",
        "colab_type": "code",
        "colab": {}
      },
      "source": [
        "pip install git+git://github.com/colcarroll/ridge_map.git"
      ],
      "execution_count": null,
      "outputs": []
    },
    {
      "cell_type": "code",
      "metadata": {
        "id": "QiTGgZrbInyX",
        "colab_type": "code",
        "colab": {}
      },
      "source": [
        "import matplotlib\n",
        "import matplotlib.pyplot as plt\n",
        "import numpy as np\n",
        "from ridge_map import RidgeMap"
      ],
      "execution_count": null,
      "outputs": []
    },
    {
      "cell_type": "code",
      "metadata": {
        "id": "deL9guJYJgoS",
        "colab_type": "code",
        "colab": {}
      },
      "source": [
        "bgcolor = np.array([65,74,76])/255.\n",
        "rm = RidgeMap((-81.233677,8.418541,-80.986485,8.552329))\n",
        "values = rm.get_elevation_data(num_lines=90)\n",
        "rm.plot_map(values=rm.preprocess(values=values, lake_flatness=5,\n",
        "                                 water_ntile=12, vertical_ratio=200),\n",
        "            label='PARQUE NACIONAL SANTA FE',\n",
        "            label_y=0.1,\n",
        "            label_x=0.044,\n",
        "            label_size=68,\n",
        "            linewidth=1.5,\n",
        "            background_color=bgcolor,\n",
        "            line_color=plt.get_cmap('cubehelix'),\n",
        "            kind='elevation')"
      ],
      "execution_count": null,
      "outputs": []
    },
    {
      "cell_type": "code",
      "metadata": {
        "id": "JvecPDY_uzoG",
        "colab_type": "code",
        "colab": {}
      },
      "source": [
        "# Obtener el color del fondo con codigo decimal (RGB)\n",
        "bgcolor = np.array([0,0,0])/255.\n",
        "\n",
        "# la caja del mapa \n",
        "rm = RidgeMap((-78.121875,7.539434,-77.133105,8.075493))\n",
        "\n",
        "# Coordenadas de la cima\n",
        "Pirre = (-77.7025, 7.9275)\n",
        "pirre_coords = ((Pirre[0] - rm.longs[0])/(rm.longs[1] - rm.longs[0]),\n",
        "                (Pirre[1] - rm.lats[0])/(rm.lats[1] - rm.lats[0]))\n",
        "\n",
        "values = rm.get_elevation_data(num_lines=65)\n",
        "ridges = rm.plot_map(values=rm.preprocess(values=values, lake_flatness=6,\n",
        "                                 water_ntile=1, vertical_ratio=55),\n",
        "            label='PARQUE NACIONAL DARIEN',\n",
        "            label_y=0.04,\n",
        "            label_x=0.5,\n",
        "            label_size=37,\n",
        "            linewidth=1.5,\n",
        "            background_color=bgcolor,\n",
        "            line_color=plt.get_cmap('viridis'),\n",
        "            kind='elevation')\n",
        "\n",
        "# Un poco de un hack para actualizar el color del texto para las etiquetas\n",
        "for child in ridges.get_children():\n",
        "    if isinstance(child, matplotlib.text.Text) and 'PARQUE NACIONAL DARIEN' in child._text:\n",
        "        label_artist = child\n",
        "        break\n",
        "label_artist.set_color('white')\n",
        "\n",
        "ridges.text(pirre_coords[0]+0.005, pirre_coords[1]+0.005, 'PIRRE',\n",
        "            fontproperties=rm.font,\n",
        "            size=20,\n",
        "            color=\"white\",\n",
        "            transform=ridges.transAxes,\n",
        "            verticalalignment=\"bottom\",\n",
        "            zorder=len(values)+10)\n",
        "\n",
        "ridges.plot(*pirre_coords, 'd',\n",
        "            color='red',\n",
        "            transform=ridges.transAxes,\n",
        "            ms=6,\n",
        "            zorder=len(values)+10)"
      ],
      "execution_count": null,
      "outputs": []
    },
    {
      "cell_type": "code",
      "metadata": {
        "id": "702tubDc6f4l",
        "colab_type": "code",
        "colab": {
          "base_uri": "https://localhost:8080/",
          "height": 34
        },
        "outputId": "f50a4f89-1839-42d7-e7de-fb8851bc0046"
      },
      "source": [
        "pip install --default-timeout=100 future"
      ],
      "execution_count": null,
      "outputs": [
        {
          "output_type": "stream",
          "text": [
            "Requirement already satisfied: future in /usr/local/lib/python3.6/dist-packages (0.16.0)\n"
          ],
          "name": "stdout"
        }
      ]
    }
  ]
}